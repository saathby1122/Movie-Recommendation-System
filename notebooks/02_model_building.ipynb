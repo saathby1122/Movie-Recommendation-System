from surprise import Dataset, Reader, SVD
from surprise.model_selection import cross_validate, train_test_split
import pandas as pd

# Load preprocessed data
data = pd.read_csv('../data/preprocessed_ratings.csv')
movies = pd.read_csv('../data/preprocessed_movies.csv')

# Prepare data for Surprise library
reader = Reader(rating_scale=(0.5, 1.0))
dataset = Dataset.load_from_df(data[['userId', 'movieId', 'rating']], reader)

# Split data into training and test sets
trainset, testset = train_test_split(dataset, test_size=0.25)

# Build and train the SVD model
svd = SVD()
cross_validate(svd, dataset, measures=['RMSE', 'MAE'], cv=5, verbose=True)

# Train the model on the trainset
svd.fit(trainset)

# Function to get top N recommendations for a user
def get_recommendations(user_id, n=10):
    user_ratings = data[data['userId'] == user_id]
    user_watched = user_ratings['movieId'].tolist()
    all_movies = data['movieId'].unique()
    recommendations = []

    for movie_id in all_movies:
        if movie_id not in user_watched:
            pred = svd.predict(user_id, movie_id)
            recommendations.append((movie_id, pred.est))

    recommendations.sort(key=lambda x: x[1], reverse=True)
    return recommendations[:n]

# Example: Get top 10 recommendations for user with ID 1
recommendations = get_recommendations(1, 10)
recommended_movie_ids = [movie_id for movie_id, _ in recommendations]
recommended_movies = movies[movies['movieId'].isin(recommended_movie_ids)]
print(recommended_movies)
