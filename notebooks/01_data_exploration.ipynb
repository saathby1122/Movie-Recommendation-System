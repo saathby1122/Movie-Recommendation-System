```python
import pandas as pd

# Load datasets
movies = pd.read_csv('../data/ml-latest-small/movies.csv')
ratings = pd.read_csv('../data/ml-latest-small/ratings.csv')

# Display the first few rows of each dataset
print(movies.head())
print(ratings.head())

# Display basic statistics
print(ratings.describe())
