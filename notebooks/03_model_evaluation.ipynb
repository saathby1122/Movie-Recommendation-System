from surprise import Dataset, Reader, SVD
from surprise.model_selection import train_test_split, accuracy
import pandas as pd

# Load preprocessed data
data = pd.read_csv('../data/preprocessed_ratings.csv')

# Prepare data for Surprise library
reader = Reader(rating_scale=(0.5, 1.0))
dataset = Dataset.load_from_df(data[['userId', 'movieId', 'rating']], reader)

# Split data into training and test sets
trainset, testset = train_test_split(dataset, test_size=0.25)

# Build and train the SVD model
svd = SVD()
svd.fit(trainset)

# Test the model
predictions = svd.test(testset)

# Evaluate the model
rmse = accuracy.rmse(predictions)
mae = accuracy.mae(predictions)

print(f"RMSE: {rmse}")
print(f"MAE: {mae}")
